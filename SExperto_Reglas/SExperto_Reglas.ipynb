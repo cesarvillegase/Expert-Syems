{
 "cells": [
  {
   "cell_type": "code",
   "execution_count": null,
   "metadata": {},
   "outputs": [],
   "source": [
    "# Elaborado por César Alejandro Villegas Espíndola\n",
    "# Reglas y patrones con experta"
   ]
  },
  {
   "cell_type": "code",
   "execution_count": 2,
   "metadata": {},
   "outputs": [
    {
     "ename": "AttributeError",
     "evalue": "module 'collections' has no attribute 'Mapping'",
     "output_type": "error",
     "traceback": [
      "\u001b[0;31m---------------------------------------------------------------------------\u001b[0m",
      "\u001b[0;31mAttributeError\u001b[0m                            Traceback (most recent call last)",
      "Cell \u001b[0;32mIn [2], line 2\u001b[0m\n\u001b[1;32m      1\u001b[0m \u001b[39mfrom\u001b[39;00m \u001b[39mcollections\u001b[39;00m\u001b[39m.\u001b[39;00m\u001b[39mabc\u001b[39;00m \u001b[39mimport\u001b[39;00m Mapping\n\u001b[0;32m----> 2\u001b[0m \u001b[39mfrom\u001b[39;00m \u001b[39mexperta\u001b[39;00m \u001b[39mimport\u001b[39;00m \u001b[39m*\u001b[39m\n",
      "File \u001b[0;32m/Library/Frameworks/Python.framework/Versions/3.10/lib/python3.10/site-packages/experta/__init__.py:5\u001b[0m\n\u001b[1;32m      3\u001b[0m \u001b[39mtry\u001b[39;00m:\n\u001b[1;32m      4\u001b[0m     \u001b[39mfrom\u001b[39;00m \u001b[39m.\u001b[39;00m\u001b[39mconditionalelement\u001b[39;00m \u001b[39mimport\u001b[39;00m AND, OR, NOT, TEST, EXISTS, FORALL\n\u001b[0;32m----> 5\u001b[0m     \u001b[39mfrom\u001b[39;00m \u001b[39m.\u001b[39;00m\u001b[39mengine\u001b[39;00m \u001b[39mimport\u001b[39;00m KnowledgeEngine\n\u001b[1;32m      6\u001b[0m     \u001b[39mfrom\u001b[39;00m \u001b[39m.\u001b[39;00m\u001b[39mfact\u001b[39;00m \u001b[39mimport\u001b[39;00m Fact, InitialFact, Field\n\u001b[1;32m      7\u001b[0m     \u001b[39mfrom\u001b[39;00m \u001b[39m.\u001b[39;00m\u001b[39mfieldconstraint\u001b[39;00m \u001b[39mimport\u001b[39;00m L, W, P\n",
      "File \u001b[0;32m/Library/Frameworks/Python.framework/Versions/3.10/lib/python3.10/site-packages/experta/engine.py:13\u001b[0m\n\u001b[1;32m     10\u001b[0m \u001b[39mfrom\u001b[39;00m \u001b[39mexperta\u001b[39;00m \u001b[39mimport\u001b[39;00m abstract\n\u001b[1;32m     12\u001b[0m \u001b[39mfrom\u001b[39;00m \u001b[39mexperta\u001b[39;00m\u001b[39m.\u001b[39;00m\u001b[39magenda\u001b[39;00m \u001b[39mimport\u001b[39;00m Agenda\n\u001b[0;32m---> 13\u001b[0m \u001b[39mfrom\u001b[39;00m \u001b[39mexperta\u001b[39;00m\u001b[39m.\u001b[39;00m\u001b[39mfact\u001b[39;00m \u001b[39mimport\u001b[39;00m InitialFact\n\u001b[1;32m     14\u001b[0m \u001b[39mfrom\u001b[39;00m \u001b[39mexperta\u001b[39;00m\u001b[39m.\u001b[39;00m\u001b[39mfactlist\u001b[39;00m \u001b[39mimport\u001b[39;00m FactList\n\u001b[1;32m     15\u001b[0m \u001b[39mfrom\u001b[39;00m \u001b[39mexperta\u001b[39;00m\u001b[39m.\u001b[39;00m\u001b[39mrule\u001b[39;00m \u001b[39mimport\u001b[39;00m Rule\n",
      "File \u001b[0;32m/Library/Frameworks/Python.framework/Versions/3.10/lib/python3.10/site-packages/experta/fact.py:9\u001b[0m\n\u001b[1;32m      6\u001b[0m \u001b[39mfrom\u001b[39;00m \u001b[39mschema\u001b[39;00m \u001b[39mimport\u001b[39;00m Schema\n\u001b[1;32m      8\u001b[0m \u001b[39mfrom\u001b[39;00m \u001b[39mexperta\u001b[39;00m\u001b[39m.\u001b[39;00m\u001b[39mpattern\u001b[39;00m \u001b[39mimport\u001b[39;00m Bindable\n\u001b[0;32m----> 9\u001b[0m \u001b[39mfrom\u001b[39;00m \u001b[39mexperta\u001b[39;00m\u001b[39m.\u001b[39;00m\u001b[39mutils\u001b[39;00m \u001b[39mimport\u001b[39;00m freeze, unfreeze\n\u001b[1;32m     10\u001b[0m \u001b[39mfrom\u001b[39;00m \u001b[39mexperta\u001b[39;00m\u001b[39m.\u001b[39;00m\u001b[39mconditionalelement\u001b[39;00m \u001b[39mimport\u001b[39;00m OperableCE\n\u001b[1;32m     11\u001b[0m \u001b[39mfrom\u001b[39;00m \u001b[39mexperta\u001b[39;00m\u001b[39m.\u001b[39;00m\u001b[39mconditionalelement\u001b[39;00m \u001b[39mimport\u001b[39;00m ConditionalElement\n",
      "File \u001b[0;32m/Library/Frameworks/Python.framework/Versions/3.10/lib/python3.10/site-packages/experta/utils.py:4\u001b[0m\n\u001b[1;32m      1\u001b[0m \u001b[39mfrom\u001b[39;00m \u001b[39mfunctools\u001b[39;00m \u001b[39mimport\u001b[39;00m singledispatch\n\u001b[1;32m      2\u001b[0m \u001b[39mimport\u001b[39;00m \u001b[39mcollections\u001b[39;00m\u001b[39m.\u001b[39;00m\u001b[39mabc\u001b[39;00m\n\u001b[0;32m----> 4\u001b[0m \u001b[39mfrom\u001b[39;00m \u001b[39mfrozendict\u001b[39;00m \u001b[39mimport\u001b[39;00m frozendict\n\u001b[1;32m      6\u001b[0m \u001b[39mfrom\u001b[39;00m \u001b[39m.\u001b[39;00m\u001b[39mfieldconstraint\u001b[39;00m \u001b[39mimport\u001b[39;00m P\n\u001b[1;32m      9\u001b[0m \u001b[39mclass\u001b[39;00m \u001b[39mfrozenlist\u001b[39;00m(\u001b[39mtuple\u001b[39m):\n",
      "File \u001b[0;32m/Library/Frameworks/Python.framework/Versions/3.10/lib/python3.10/site-packages/frozendict/__init__.py:16\u001b[0m\n\u001b[1;32m     10\u001b[0m     OrderedDict \u001b[39m=\u001b[39m \u001b[39mNotImplemented\u001b[39m\n\u001b[1;32m     13\u001b[0m iteritems \u001b[39m=\u001b[39m \u001b[39mgetattr\u001b[39m(\u001b[39mdict\u001b[39m, \u001b[39m'\u001b[39m\u001b[39miteritems\u001b[39m\u001b[39m'\u001b[39m, \u001b[39mdict\u001b[39m\u001b[39m.\u001b[39mitems) \u001b[39m# py2-3 compatibility\u001b[39;00m\n\u001b[0;32m---> 16\u001b[0m \u001b[39mclass\u001b[39;00m \u001b[39mfrozendict\u001b[39;00m(collections\u001b[39m.\u001b[39;49mMapping):\n\u001b[1;32m     17\u001b[0m     \u001b[39m\"\"\"\u001b[39;00m\n\u001b[1;32m     18\u001b[0m \u001b[39m    An immutable wrapper around dictionaries that implements the complete :py:class:`collections.Mapping`\u001b[39;00m\n\u001b[1;32m     19\u001b[0m \u001b[39m    interface. It can be used as a drop-in replacement for dictionaries where immutability is desired.\u001b[39;00m\n\u001b[1;32m     20\u001b[0m \u001b[39m    \"\"\"\u001b[39;00m\n\u001b[1;32m     22\u001b[0m     dict_cls \u001b[39m=\u001b[39m \u001b[39mdict\u001b[39m\n",
      "\u001b[0;31mAttributeError\u001b[0m: module 'collections' has no attribute 'Mapping'"
     ]
    }
   ],
   "source": [
    "from collections.abc import Mapping"
   ]
  }
 ],
 "metadata": {
  "kernelspec": {
   "display_name": "Python 3.10.8 64-bit",
   "language": "python",
   "name": "python3"
  },
  "language_info": {
   "codemirror_mode": {
    "name": "ipython",
    "version": 3
   },
   "file_extension": ".py",
   "mimetype": "text/x-python",
   "name": "python",
   "nbconvert_exporter": "python",
   "pygments_lexer": "ipython3",
   "version": "3.10.8"
  },
  "orig_nbformat": 4,
  "vscode": {
   "interpreter": {
    "hash": "aee8b7b246df8f9039afb4144a1f6fd8d2ca17a180786b69acc140d282b71a49"
   }
  }
 },
 "nbformat": 4,
 "nbformat_minor": 2
}
